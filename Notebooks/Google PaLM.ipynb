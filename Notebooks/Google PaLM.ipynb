{
 "cells": [
  {
   "cell_type": "markdown",
   "source": [
    "# Google Palm LLM in LangChain"
   ],
   "metadata": {
    "collapsed": false
   }
  },
  {
   "cell_type": "code",
   "execution_count": 78,
   "outputs": [],
   "source": [
    "from langchain.llms import GooglePalm\n",
    "from dotenv import load_dotenv\n",
    "import os\n",
    "from langchain.document_loaders.json_loader import JSONLoader\n",
    "from langchain.embeddings import HuggingFaceInstructEmbeddings\n",
    "from langchain.vectorstores import FAISS\n",
    "from langchain.prompts import PromptTemplate\n"
   ],
   "metadata": {
    "collapsed": false
   }
  },
  {
   "cell_type": "code",
   "execution_count": 9,
   "outputs": [
    {
     "data": {
      "text/plain": "True"
     },
     "execution_count": 9,
     "metadata": {},
     "output_type": "execute_result"
    }
   ],
   "source": [
    "# load environment variables\n",
    "load_dotenv()"
   ],
   "metadata": {
    "collapsed": false
   }
  },
  {
   "cell_type": "code",
   "execution_count": 11,
   "outputs": [],
   "source": [
    "# load GooglePalm\n",
    "llm = GooglePalm(google_api_key=os.environ[\"GOOGLE_API_KEY\"], temperature=0)"
   ],
   "metadata": {
    "collapsed": false
   }
  },
  {
   "cell_type": "code",
   "execution_count": 12,
   "outputs": [
    {
     "name": "stdout",
     "output_type": "stream",
     "text": [
      "Doing okay.\n"
     ]
    }
   ],
   "source": [
    "# test llm\n",
    "hello = llm(\"Hi. How are you?\")\n",
    "print(hello)"
   ],
   "metadata": {
    "collapsed": false
   }
  },
  {
   "cell_type": "markdown",
   "source": [
    "## Load data from json file"
   ],
   "metadata": {
    "collapsed": false
   }
  },
  {
   "cell_type": "code",
   "execution_count": 56,
   "outputs": [],
   "source": [
    "loader = JSONLoader(file_path=\"../data/Ecommerce_FAQ_Chatbot_dataset.json\",\n",
    "                    jq_schema='.questions[].question',\n",
    "                    text_content=True)\n",
    "\n",
    "# Store the loaded data in the 'data' variable\n",
    "data = loader.load()"
   ],
   "metadata": {
    "collapsed": false
   }
  },
  {
   "cell_type": "code",
   "execution_count": 57,
   "outputs": [
    {
     "data": {
      "text/plain": "Document(page_content='How can I create an account?', metadata={'source': '/Users/armanbabayan/Personal Projects/Ecommerce-QA-Platform-with-Google-Palm-in-LangChain/data/Ecommerce_FAQ_Chatbot_dataset.json', 'seq_num': 1})"
     },
     "execution_count": 57,
     "metadata": {},
     "output_type": "execute_result"
    }
   ],
   "source": [
    "data[0]"
   ],
   "metadata": {
    "collapsed": false
   }
  },
  {
   "cell_type": "markdown",
   "source": [
    "## Hugging Face Embeddings"
   ],
   "metadata": {
    "collapsed": false
   }
  },
  {
   "cell_type": "code",
   "execution_count": 65,
   "outputs": [
    {
     "data": {
      "text/plain": "Downloading (…)c7233/.gitattributes:   0%|          | 0.00/1.48k [00:00<?, ?B/s]",
      "application/vnd.jupyter.widget-view+json": {
       "version_major": 2,
       "version_minor": 0,
       "model_id": "a2c39734c92940a5b45f4ed609b62cc1"
      }
     },
     "metadata": {},
     "output_type": "display_data"
    },
    {
     "data": {
      "text/plain": "Downloading (…)_Pooling/config.json:   0%|          | 0.00/270 [00:00<?, ?B/s]",
      "application/vnd.jupyter.widget-view+json": {
       "version_major": 2,
       "version_minor": 0,
       "model_id": "817abc2129b940d89d2cb82026456faa"
      }
     },
     "metadata": {},
     "output_type": "display_data"
    },
    {
     "data": {
      "text/plain": "Downloading (…)/2_Dense/config.json:   0%|          | 0.00/116 [00:00<?, ?B/s]",
      "application/vnd.jupyter.widget-view+json": {
       "version_major": 2,
       "version_minor": 0,
       "model_id": "c94bb81d76a5485484d13309701b2f7e"
      }
     },
     "metadata": {},
     "output_type": "display_data"
    },
    {
     "data": {
      "text/plain": "Downloading pytorch_model.bin:   0%|          | 0.00/3.15M [00:00<?, ?B/s]",
      "application/vnd.jupyter.widget-view+json": {
       "version_major": 2,
       "version_minor": 0,
       "model_id": "c69513f7bd694795ad4e84a1d8bb4415"
      }
     },
     "metadata": {},
     "output_type": "display_data"
    },
    {
     "data": {
      "text/plain": "Downloading (…)9fb15c7233/README.md:   0%|          | 0.00/66.3k [00:00<?, ?B/s]",
      "application/vnd.jupyter.widget-view+json": {
       "version_major": 2,
       "version_minor": 0,
       "model_id": "d6e784948671497e964748b46f2c4f1c"
      }
     },
     "metadata": {},
     "output_type": "display_data"
    },
    {
     "data": {
      "text/plain": "Downloading (…)b15c7233/config.json:   0%|          | 0.00/1.53k [00:00<?, ?B/s]",
      "application/vnd.jupyter.widget-view+json": {
       "version_major": 2,
       "version_minor": 0,
       "model_id": "2be83bc115b24814835efd79396b2942"
      }
     },
     "metadata": {},
     "output_type": "display_data"
    },
    {
     "data": {
      "text/plain": "Downloading (…)ce_transformers.json:   0%|          | 0.00/122 [00:00<?, ?B/s]",
      "application/vnd.jupyter.widget-view+json": {
       "version_major": 2,
       "version_minor": 0,
       "model_id": "5d2538bd9bbb4e769b20388e8672de55"
      }
     },
     "metadata": {},
     "output_type": "display_data"
    },
    {
     "data": {
      "text/plain": "Downloading pytorch_model.bin:   0%|          | 0.00/1.34G [00:00<?, ?B/s]",
      "application/vnd.jupyter.widget-view+json": {
       "version_major": 2,
       "version_minor": 0,
       "model_id": "aff1bf8626e1436993bfb719ea70cabe"
      }
     },
     "metadata": {},
     "output_type": "display_data"
    },
    {
     "data": {
      "text/plain": "Downloading (…)nce_bert_config.json:   0%|          | 0.00/53.0 [00:00<?, ?B/s]",
      "application/vnd.jupyter.widget-view+json": {
       "version_major": 2,
       "version_minor": 0,
       "model_id": "cc6d3d546f0a4a4e80322c693218f11e"
      }
     },
     "metadata": {},
     "output_type": "display_data"
    },
    {
     "data": {
      "text/plain": "Downloading (…)cial_tokens_map.json:   0%|          | 0.00/2.20k [00:00<?, ?B/s]",
      "application/vnd.jupyter.widget-view+json": {
       "version_major": 2,
       "version_minor": 0,
       "model_id": "e33dd2b282e34fa98b914d87c2166987"
      }
     },
     "metadata": {},
     "output_type": "display_data"
    },
    {
     "data": {
      "text/plain": "Downloading spiece.model:   0%|          | 0.00/792k [00:00<?, ?B/s]",
      "application/vnd.jupyter.widget-view+json": {
       "version_major": 2,
       "version_minor": 0,
       "model_id": "dab5e7f263f74bb292d3a5bec594ebff"
      }
     },
     "metadata": {},
     "output_type": "display_data"
    },
    {
     "data": {
      "text/plain": "Downloading (…)c7233/tokenizer.json:   0%|          | 0.00/2.42M [00:00<?, ?B/s]",
      "application/vnd.jupyter.widget-view+json": {
       "version_major": 2,
       "version_minor": 0,
       "model_id": "1e771ae24e2f42b5af9ed323dd6e0351"
      }
     },
     "metadata": {},
     "output_type": "display_data"
    },
    {
     "data": {
      "text/plain": "Downloading (…)okenizer_config.json:   0%|          | 0.00/2.41k [00:00<?, ?B/s]",
      "application/vnd.jupyter.widget-view+json": {
       "version_major": 2,
       "version_minor": 0,
       "model_id": "d20ff7a603aa4140a2c03d8528829b53"
      }
     },
     "metadata": {},
     "output_type": "display_data"
    },
    {
     "data": {
      "text/plain": "Downloading (…)15c7233/modules.json:   0%|          | 0.00/461 [00:00<?, ?B/s]",
      "application/vnd.jupyter.widget-view+json": {
       "version_major": 2,
       "version_minor": 0,
       "model_id": "bdded6117531427aa5ee82e2c881ba43"
      }
     },
     "metadata": {},
     "output_type": "display_data"
    },
    {
     "name": "stdout",
     "output_type": "stream",
     "text": [
      "load INSTRUCTOR_Transformer\n",
      "max_seq_length  512\n"
     ]
    }
   ],
   "source": [
    "# Initialize instructor embeddings using the Hugging Face model\n",
    "instructor_embeddings = HuggingFaceInstructEmbeddings(model_name=\"hkunlp/instructor-large\")\n",
    "\n",
    "e = instructor_embeddings.embed_query(\"What is the process for submitting a product review?\")"
   ],
   "metadata": {
    "collapsed": false
   }
  },
  {
   "cell_type": "code",
   "execution_count": 67,
   "outputs": [
    {
     "data": {
      "text/plain": "768"
     },
     "execution_count": 67,
     "metadata": {},
     "output_type": "execute_result"
    }
   ],
   "source": [
    "len(e)"
   ],
   "metadata": {
    "collapsed": false
   }
  },
  {
   "cell_type": "markdown",
   "source": [
    "## Store vectors using FAISS"
   ],
   "metadata": {
    "collapsed": false
   }
  },
  {
   "cell_type": "code",
   "execution_count": 75,
   "outputs": [],
   "source": [
    "# Create a FAISS instance for vector database from 'data'\n",
    "vectordb = FAISS.from_documents(documents=data,\n",
    "                                 embedding=instructor_embeddings)\n",
    "\n",
    "# Create a retriever for querying the vector database\n",
    "retriever = vectordb.as_retriever(score_threshold = 0.7)"
   ],
   "metadata": {
    "collapsed": false
   }
  },
  {
   "cell_type": "code",
   "execution_count": 71,
   "outputs": [
    {
     "data": {
      "text/plain": "[Document(page_content='How can I leave a product review?', metadata={'source': '/Users/armanbabayan/Personal Projects/Ecommerce-QA-Platform-with-Google-Palm-in-LangChain/data/Ecommerce_FAQ_Chatbot_dataset.json', 'seq_num': 20}),\n Document(page_content='How can I contact customer support?', metadata={'source': '/Users/armanbabayan/Personal Projects/Ecommerce-QA-Platform-with-Google-Palm-in-LangChain/data/Ecommerce_FAQ_Chatbot_dataset.json', 'seq_num': 10}),\n Document(page_content='Can I request a product demonstration before making a purchase?', metadata={'source': '/Users/armanbabayan/Personal Projects/Ecommerce-QA-Platform-with-Google-Palm-in-LangChain/data/Ecommerce_FAQ_Chatbot_dataset.json', 'seq_num': 36}),\n Document(page_content='Can I request a product if it is not listed on your website?', metadata={'source': '/Users/armanbabayan/Personal Projects/Ecommerce-QA-Platform-with-Google-Palm-in-LangChain/data/Ecommerce_FAQ_Chatbot_dataset.json', 'seq_num': 65})]"
     },
     "execution_count": 71,
     "metadata": {},
     "output_type": "execute_result"
    }
   ],
   "source": [
    "rdocs = retriever.get_relevant_documents(\"What is the process for submitting a product review?\")\n",
    "rdocs"
   ],
   "metadata": {
    "collapsed": false
   }
  },
  {
   "cell_type": "code",
   "execution_count": 77,
   "outputs": [
    {
     "data": {
      "text/plain": "[Document(page_content='How can I create an account?', metadata={'source': '/Users/armanbabayan/Personal Projects/Ecommerce-QA-Platform-with-Google-Palm-in-LangChain/data/Ecommerce_FAQ_Chatbot_dataset.json', 'seq_num': 1}),\n Document(page_content='Are my personal and payment details secure?', metadata={'source': '/Users/armanbabayan/Personal Projects/Ecommerce-QA-Platform-with-Google-Palm-in-LangChain/data/Ecommerce_FAQ_Chatbot_dataset.json', 'seq_num': 14}),\n Document(page_content='How can I track my order?', metadata={'source': '/Users/armanbabayan/Personal Projects/Ecommerce-QA-Platform-with-Google-Palm-in-LangChain/data/Ecommerce_FAQ_Chatbot_dataset.json', 'seq_num': 3}),\n Document(page_content='Do you have a loyalty program?', metadata={'source': '/Users/armanbabayan/Personal Projects/Ecommerce-QA-Platform-with-Google-Palm-in-LangChain/data/Ecommerce_FAQ_Chatbot_dataset.json', 'seq_num': 16})]"
     },
     "execution_count": 77,
     "metadata": {},
     "output_type": "execute_result"
    }
   ],
   "source": [
    "rdocs = retriever.get_relevant_documents(\"What is my name?\")\n",
    "rdocs"
   ],
   "metadata": {
    "collapsed": false
   }
  },
  {
   "cell_type": "markdown",
   "source": [
    "## Create RetrievalQA chain along with prompt template"
   ],
   "metadata": {
    "collapsed": false
   }
  },
  {
   "cell_type": "markdown",
   "source": [
    "Somtimes LLMs might start making things up. For instance, when we ask them something not in the data, they might use what they know to guess an answer. The PromptTemplate helps us tell them what to do. For example, we can tell them to say \"I don't know\" if the answer isn't in the data."
   ],
   "metadata": {
    "collapsed": false
   }
  },
  {
   "cell_type": "code",
   "execution_count": 79,
   "outputs": [],
   "source": [
    "prompt_template = \"\"\"Given the following context and a question, generate an answer based on this context only.\n",
    "In the answer try to provide as much text as possible from \"answer\" section in the source document context without making much changes.\n",
    "If the answer is not found in the context, kindly state \"I don't know.\" Don't try to make up an answer.\n",
    "\n",
    "CONTEXT: {context}\n",
    "\n",
    "QUESTION: {question}\"\"\"\n",
    "\n",
    "\n",
    "PROMPT = PromptTemplate(\n",
    "    template=prompt_template, input_variables=[\"context\", \"question\"]\n",
    ")\n",
    "chain_type_kwargs = {\"prompt\": PROMPT}\n",
    "\n",
    "\n",
    "from langchain.chains import RetrievalQA\n",
    "\n",
    "chain = RetrievalQA.from_chain_type(llm=llm,\n",
    "                            chain_type=\"stuff\",\n",
    "                            retriever=retriever,\n",
    "                            input_key=\"query\",\n",
    "                            return_source_documents=True,\n",
    "                            chain_type_kwargs=chain_type_kwargs)\n"
   ],
   "metadata": {
    "collapsed": false
   }
  },
  {
   "cell_type": "code",
   "execution_count": 80,
   "outputs": [
    {
     "data": {
      "text/plain": "{'query': 'What is my name?',\n 'result': \"I don't know.\",\n 'source_documents': [Document(page_content='How can I create an account?', metadata={'source': '/Users/armanbabayan/Personal Projects/Ecommerce-QA-Platform-with-Google-Palm-in-LangChain/data/Ecommerce_FAQ_Chatbot_dataset.json', 'seq_num': 1}),\n  Document(page_content='Are my personal and payment details secure?', metadata={'source': '/Users/armanbabayan/Personal Projects/Ecommerce-QA-Platform-with-Google-Palm-in-LangChain/data/Ecommerce_FAQ_Chatbot_dataset.json', 'seq_num': 14}),\n  Document(page_content='How can I track my order?', metadata={'source': '/Users/armanbabayan/Personal Projects/Ecommerce-QA-Platform-with-Google-Palm-in-LangChain/data/Ecommerce_FAQ_Chatbot_dataset.json', 'seq_num': 3}),\n  Document(page_content='Do you have a loyalty program?', metadata={'source': '/Users/armanbabayan/Personal Projects/Ecommerce-QA-Platform-with-Google-Palm-in-LangChain/data/Ecommerce_FAQ_Chatbot_dataset.json', 'seq_num': 16})]}"
     },
     "execution_count": 80,
     "metadata": {},
     "output_type": "execute_result"
    }
   ],
   "source": [
    "chain(\"What is my name?\")"
   ],
   "metadata": {
    "collapsed": false
   }
  },
  {
   "cell_type": "code",
   "execution_count": 82,
   "outputs": [
    {
     "data": {
      "text/plain": "{'query': 'What is the process for submitting a product review?',\n 'result': 'To leave a product review, please follow these steps:\\n\\n1. Navigate to the product page.\\n2. Click on the \"Write a Review\" link.\\n3. Enter your name and email address.\\n4. Write your review.\\n5. Click on the \"Submit\" button.',\n 'source_documents': [Document(page_content='How can I leave a product review?', metadata={'source': '/Users/armanbabayan/Personal Projects/Ecommerce-QA-Platform-with-Google-Palm-in-LangChain/data/Ecommerce_FAQ_Chatbot_dataset.json', 'seq_num': 20}),\n  Document(page_content='How can I contact customer support?', metadata={'source': '/Users/armanbabayan/Personal Projects/Ecommerce-QA-Platform-with-Google-Palm-in-LangChain/data/Ecommerce_FAQ_Chatbot_dataset.json', 'seq_num': 10}),\n  Document(page_content='Can I request a product demonstration before making a purchase?', metadata={'source': '/Users/armanbabayan/Personal Projects/Ecommerce-QA-Platform-with-Google-Palm-in-LangChain/data/Ecommerce_FAQ_Chatbot_dataset.json', 'seq_num': 36}),\n  Document(page_content='Can I request a product if it is not listed on your website?', metadata={'source': '/Users/armanbabayan/Personal Projects/Ecommerce-QA-Platform-with-Google-Palm-in-LangChain/data/Ecommerce_FAQ_Chatbot_dataset.json', 'seq_num': 65})]}"
     },
     "execution_count": 82,
     "metadata": {},
     "output_type": "execute_result"
    }
   ],
   "source": [
    "chain(\"What is the process for submitting a product review?\")"
   ],
   "metadata": {
    "collapsed": false
   }
  },
  {
   "cell_type": "code",
   "execution_count": null,
   "outputs": [],
   "source": [],
   "metadata": {
    "collapsed": false
   }
  }
 ],
 "metadata": {
  "kernelspec": {
   "display_name": "Python 3",
   "language": "python",
   "name": "python3"
  },
  "language_info": {
   "codemirror_mode": {
    "name": "ipython",
    "version": 2
   },
   "file_extension": ".py",
   "mimetype": "text/x-python",
   "name": "python",
   "nbconvert_exporter": "python",
   "pygments_lexer": "ipython2",
   "version": "2.7.6"
  }
 },
 "nbformat": 4,
 "nbformat_minor": 0
}
